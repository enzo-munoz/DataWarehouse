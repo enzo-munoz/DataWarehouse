{
 "cells": [
  {
   "cell_type": "code",
   "execution_count": null,
   "id": "73715275",
   "metadata": {},
   "outputs": [],
   "source": [
    "import pandas as pd\n",
    "pays = pd.read_csv('ressources/pays.csv')\n",
    "ventes = pd.read_csv('ressources/ventes.csv')\n",
    "fabricants = pd.read_csv('ressources/fabricants.csv')\n",
    "departements = pd.read_csv('ressources/departements.csv')\n",
    "villes = pd.read_csv('ressources/villes.csv')\n",
    "catalogue = pd.read_csv('ressources/catalogue.csv')\n",
    "\n",
    "ventes['id'] = range(1, len(ventes) + 1)\n",
    "ventes.to_csv('ressources/ventes_avec_id.csv', index=False)\n"
   ]
  }
 ],
 "metadata": {
  "kernelspec": {
   "display_name": "Python 3",
   "language": "python",
   "name": "python3"
  },
  "language_info": {
   "name": "python",
   "version": "3.13.3"
  }
 },
 "nbformat": 4,
 "nbformat_minor": 5
}

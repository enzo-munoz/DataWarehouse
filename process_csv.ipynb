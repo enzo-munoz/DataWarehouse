{
 "cells": [
  {
   "cell_type": "code",
   "execution_count": null,
   "id": "73715275",
   "metadata": {},
   "outputs": [],
   "source": [
    "import pandas as pd\n",
    "\n",
    "# Ajout de l'option sep=';' pour lire correctement les fichiers CSV avec des colonnes séparées par des points-virgules\n",
    "pays = pd.read_csv('ressources/pays.csv', sep=';')\n",
    "ventes = pd.read_csv('ressources/ventes.csv', sep=';')\n",
    "fabricants = pd.read_csv('ressources/fabricant.csv', sep=';')\n",
    "departements = pd.read_csv('ressources/departement.csv', sep=';')\n",
    "villes = pd.read_csv('ressources/villes_france.csv', sep=';')\n",
    "catalogue = pd.read_csv('ressources/catalogue.csv', sep=';')\n",
    "magasins = pd.read_csv('ressources/magasin.csv', sep=';')\n",
    "clients = pd.read_csv('ressources/clients.csv', sep=';')\n",
    "produits = pd.read_csv('ressources/produits.csv', sep=';')\n",
    "# Ajout d'une colonne 'id' unique au dataframe ventes\n",
    "ventes['idVente'] = range(1, len(ventes) + 1)\n",
    "ventes.to_csv('ressources/ventes.csv',sep = ';', index=False)\n",
    "# Faire le Csv date\n",
    "\n",
    "# Convertir la colonne 'date' en format datetime\n",
    "ventes['date'] = pd.to_datetime(ventes['date'], unit='s')\n",
    "\n",
    "# Créer un DataFrame 'Date' avec les colonnes nécessaires\n",
    "Date = pd.DataFrame({\n",
    "    'timestamp': ventes['date'].astype('int64') // 10**9,  # Convert datetime to UNIX timestamp\n",
    "    'heure': ventes['date'].dt.hour,\n",
    "    'jourSemaine': ventes['date'].dt.dayofweek,\n",
    "    'jourAnnee': ventes['date'].dt.dayofyear,\n",
    "    'mois': ventes['date'].dt.month,\n",
    "    'annee': ventes['date'].dt.year\n",
    "})\n",
    "\n",
    "# Sauvegarder le DataFrame 'Date' dans un fichier CSV\n",
    "Date.to_csv('ressources/date.csv', sep=';', index=False)"
   ]
  }
 ],
 "metadata": {
  "kernelspec": {
   "display_name": "Python 3",
   "language": "python",
   "name": "python3"
  },
  "language_info": {
   "codemirror_mode": {
    "name": "ipython",
    "version": 3
   },
   "file_extension": ".py",
   "mimetype": "text/x-python",
   "name": "python",
   "nbconvert_exporter": "python",
   "pygments_lexer": "ipython3",
   "version": "3.13.3"
  }
 },
 "nbformat": 4,
 "nbformat_minor": 5
}
